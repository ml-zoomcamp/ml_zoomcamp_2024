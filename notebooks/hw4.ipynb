{
 "cells": [
  {
   "cell_type": "code",
   "execution_count": 1,
   "metadata": {},
   "outputs": [],
   "source": [
    "import numpy as np\n",
    "import pandas as pd \n",
    "import matplotlib.pyplot as plt\n",
    "import seaborn as sns\n",
    "from sklearn.model_selection import train_test_split\n",
    "from sklearn.metrics import roc_auc_score\n",
    "from sklearn.feature_extraction import DictVectorizer\n",
    "from sklearn.linear_model import LogisticRegression\n",
    "from sklearn.model_selection import KFold\n",
    "from collections import defaultdict"
   ]
  },
  {
   "cell_type": "code",
   "execution_count": 2,
   "metadata": {},
   "outputs": [],
   "source": [
    "#import wget\n",
    "#wget.download(\"https://archive.ics.uci.edu/static/public/222/bank+marketing.zip\")"
   ]
  },
  {
   "cell_type": "code",
   "execution_count": 3,
   "metadata": {},
   "outputs": [
    {
     "data": {
      "text/html": [
       "<div>\n",
       "<style scoped>\n",
       "    .dataframe tbody tr th:only-of-type {\n",
       "        vertical-align: middle;\n",
       "    }\n",
       "\n",
       "    .dataframe tbody tr th {\n",
       "        vertical-align: top;\n",
       "    }\n",
       "\n",
       "    .dataframe thead th {\n",
       "        text-align: right;\n",
       "    }\n",
       "</style>\n",
       "<table border=\"1\" class=\"dataframe\">\n",
       "  <thead>\n",
       "    <tr style=\"text-align: right;\">\n",
       "      <th></th>\n",
       "      <th>age</th>\n",
       "      <th>job</th>\n",
       "      <th>marital</th>\n",
       "      <th>education</th>\n",
       "      <th>balance</th>\n",
       "      <th>housing</th>\n",
       "      <th>contact</th>\n",
       "      <th>day</th>\n",
       "      <th>month</th>\n",
       "      <th>duration</th>\n",
       "      <th>campaign</th>\n",
       "      <th>pdays</th>\n",
       "      <th>previous</th>\n",
       "      <th>poutcome</th>\n",
       "      <th>y</th>\n",
       "    </tr>\n",
       "  </thead>\n",
       "  <tbody>\n",
       "    <tr>\n",
       "      <th>0</th>\n",
       "      <td>58</td>\n",
       "      <td>management</td>\n",
       "      <td>married</td>\n",
       "      <td>tertiary</td>\n",
       "      <td>2143</td>\n",
       "      <td>yes</td>\n",
       "      <td>unknown</td>\n",
       "      <td>5</td>\n",
       "      <td>may</td>\n",
       "      <td>261</td>\n",
       "      <td>1</td>\n",
       "      <td>-1</td>\n",
       "      <td>0</td>\n",
       "      <td>unknown</td>\n",
       "      <td>no</td>\n",
       "    </tr>\n",
       "    <tr>\n",
       "      <th>1</th>\n",
       "      <td>44</td>\n",
       "      <td>technician</td>\n",
       "      <td>single</td>\n",
       "      <td>secondary</td>\n",
       "      <td>29</td>\n",
       "      <td>yes</td>\n",
       "      <td>unknown</td>\n",
       "      <td>5</td>\n",
       "      <td>may</td>\n",
       "      <td>151</td>\n",
       "      <td>1</td>\n",
       "      <td>-1</td>\n",
       "      <td>0</td>\n",
       "      <td>unknown</td>\n",
       "      <td>no</td>\n",
       "    </tr>\n",
       "    <tr>\n",
       "      <th>2</th>\n",
       "      <td>33</td>\n",
       "      <td>entrepreneur</td>\n",
       "      <td>married</td>\n",
       "      <td>secondary</td>\n",
       "      <td>2</td>\n",
       "      <td>yes</td>\n",
       "      <td>unknown</td>\n",
       "      <td>5</td>\n",
       "      <td>may</td>\n",
       "      <td>76</td>\n",
       "      <td>1</td>\n",
       "      <td>-1</td>\n",
       "      <td>0</td>\n",
       "      <td>unknown</td>\n",
       "      <td>no</td>\n",
       "    </tr>\n",
       "    <tr>\n",
       "      <th>3</th>\n",
       "      <td>47</td>\n",
       "      <td>blue-collar</td>\n",
       "      <td>married</td>\n",
       "      <td>unknown</td>\n",
       "      <td>1506</td>\n",
       "      <td>yes</td>\n",
       "      <td>unknown</td>\n",
       "      <td>5</td>\n",
       "      <td>may</td>\n",
       "      <td>92</td>\n",
       "      <td>1</td>\n",
       "      <td>-1</td>\n",
       "      <td>0</td>\n",
       "      <td>unknown</td>\n",
       "      <td>no</td>\n",
       "    </tr>\n",
       "    <tr>\n",
       "      <th>4</th>\n",
       "      <td>33</td>\n",
       "      <td>unknown</td>\n",
       "      <td>single</td>\n",
       "      <td>unknown</td>\n",
       "      <td>1</td>\n",
       "      <td>no</td>\n",
       "      <td>unknown</td>\n",
       "      <td>5</td>\n",
       "      <td>may</td>\n",
       "      <td>198</td>\n",
       "      <td>1</td>\n",
       "      <td>-1</td>\n",
       "      <td>0</td>\n",
       "      <td>unknown</td>\n",
       "      <td>no</td>\n",
       "    </tr>\n",
       "  </tbody>\n",
       "</table>\n",
       "</div>"
      ],
      "text/plain": [
       "   age           job  marital  education  balance housing  contact  day month  \\\n",
       "0   58    management  married   tertiary     2143     yes  unknown    5   may   \n",
       "1   44    technician   single  secondary       29     yes  unknown    5   may   \n",
       "2   33  entrepreneur  married  secondary        2     yes  unknown    5   may   \n",
       "3   47   blue-collar  married    unknown     1506     yes  unknown    5   may   \n",
       "4   33       unknown   single    unknown        1      no  unknown    5   may   \n",
       "\n",
       "   duration  campaign  pdays  previous poutcome   y  \n",
       "0       261         1     -1         0  unknown  no  \n",
       "1       151         1     -1         0  unknown  no  \n",
       "2        76         1     -1         0  unknown  no  \n",
       "3        92         1     -1         0  unknown  no  \n",
       "4       198         1     -1         0  unknown  no  "
      ]
     },
     "execution_count": 3,
     "metadata": {},
     "output_type": "execute_result"
    }
   ],
   "source": [
    "df = pd.read_csv(\"../data/bank-full.csv\", delimiter=\";\")\n",
    "\n",
    "# select columns to work with\n",
    "columns_to_select = ['age', 'job', 'marital',\n",
    "                     'education', 'balance', 'housing',\n",
    "                     'contact', 'day', 'month', 'duration',\n",
    "                     'campaign', 'pdays', 'previous',\n",
    "                     'poutcome', 'y']\n",
    "\n",
    "df = df[columns_to_select]\n",
    "\n",
    "df.head()"
   ]
  },
  {
   "cell_type": "code",
   "execution_count": 4,
   "metadata": {},
   "outputs": [],
   "source": [
    "# encode y-target\n",
    "\n",
    "df[\"y\"] = df[\"y\"].map({\"no\":0, \"yes\":1}) "
   ]
  },
  {
   "cell_type": "markdown",
   "metadata": {},
   "source": [
    "Split the data into 3 parts: train/validation/test with 60%/20%/20% distribution. Use train_test_split function for that with random_state=1\n",
    "\n"
   ]
  },
  {
   "cell_type": "code",
   "execution_count": 5,
   "metadata": {},
   "outputs": [
    {
     "name": "stdout",
     "output_type": "stream",
     "text": [
      "Len train: 27126\n",
      "Len test: 9043\n",
      "Len val: 9042\n"
     ]
    }
   ],
   "source": [
    "df_train_val, df_test = train_test_split(df, test_size=0.2, random_state=1)\n",
    "df_train, df_val = train_test_split(df_train_val, test_size=0.25, random_state=1)\n",
    "\n",
    "print(f'Len train: {df_train.shape[0]}\\nLen test: {df_test.shape[0]}\\nLen val: {df_val.shape[0]}')"
   ]
  },
  {
   "cell_type": "code",
   "execution_count": 6,
   "metadata": {},
   "outputs": [],
   "source": [
    "df_train = df_train.reset_index(drop=True)\n",
    "df_test = df_test.reset_index(drop=True)\n",
    "df_val = df_val.reset_index(drop=True)"
   ]
  },
  {
   "cell_type": "markdown",
   "metadata": {},
   "source": [
    "### Question 1: ROC AUC feature importance\n",
    "\n",
    "ROC AUC could also be used to evaluate feature importance of numerical variables.\n",
    "\n",
    "Let's do that\n",
    "\n",
    "For each numerical variable, use it as score (aka prediction) and compute the AUC with the y variable as ground truth.\n",
    "Use the training dataset for that\n",
    "\n",
    "If your AUC is < 0.5, invert this variable by putting \"-\" in front\n",
    "\n",
    "(e.g. -df_train['engine_hp'])\n",
    "\n",
    "AUC can go below 0.5 if the variable is negatively correlated with the target variable. \n",
    "\n",
    "You can change the direction of the correlation by negating this variable - then negative correlation becomes positive.\n",
    "\n",
    "Which numerical variable (among the following 4) has the highest AUC?"
   ]
  },
  {
   "cell_type": "code",
   "execution_count": 7,
   "metadata": {},
   "outputs": [
    {
     "name": "stdout",
     "output_type": "stream",
     "text": [
      "age: 0.488\n",
      "balance: 0.589\n",
      "day: 0.474\n",
      "duration: 0.815\n",
      "campaign: 0.429\n",
      "pdays: 0.590\n",
      "previous: 0.599\n"
     ]
    }
   ],
   "source": [
    "numeric_features = [\"age\", \"balance\", \"day\", \"duration\", \"campaign\", \"pdays\", \"previous\"]\n",
    "\n",
    "for feature in numeric_features:\n",
    "    score = roc_auc_score(df_train.y, df_train[feature], multi_class='ovr')\n",
    "    print(f\"{feature}: {score:.3f}\")"
   ]
  },
  {
   "cell_type": "markdown",
   "metadata": {},
   "source": [
    "### Question 2: Training the model\n",
    "\n",
    "Apply one-hot-encoding using DictVectorizer and train the logistic regression with these parameters:\n",
    "\n",
    "LogisticRegression(solver='liblinear', C=1.0, max_iter=1000)\n",
    "\n",
    "What's the AUC of this model on the validation dataset? (round to 3 digits)\n"
   ]
  },
  {
   "cell_type": "code",
   "execution_count": 8,
   "metadata": {},
   "outputs": [],
   "source": [
    "y_train = df_train[\"y\"].values\n",
    "y_test = df_test[\"y\"].values\n",
    "y_val = df_val[\"y\"].values\n",
    "\n",
    "df_train.drop(columns=[\"y\"], inplace=True)\n",
    "df_test.drop(columns=[\"y\"], inplace=True)\n",
    "df_val.drop(columns=[\"y\"], inplace=True)   "
   ]
  },
  {
   "cell_type": "code",
   "execution_count": 9,
   "metadata": {},
   "outputs": [],
   "source": [
    "vectorizer = DictVectorizer(sparse=False)\n",
    "\n",
    "train_dict = df_train.to_dict(orient=\"records\")\n",
    "X_train = vectorizer.fit_transform(train_dict)\n",
    "\n",
    "test_dict = df_test.to_dict(orient=\"records\")\n",
    "X_test = vectorizer.fit_transform(test_dict)\n",
    "\n",
    "val_dict = df_val.to_dict(orient=\"records\")\n",
    "X_val = vectorizer.fit_transform(val_dict)"
   ]
  },
  {
   "cell_type": "code",
   "execution_count": 10,
   "metadata": {},
   "outputs": [
    {
     "name": "stdout",
     "output_type": "stream",
     "text": [
      "Auc: 0.900\n"
     ]
    }
   ],
   "source": [
    "lr = LogisticRegression(solver='liblinear', C=1.0, max_iter=1000)\n",
    "lr.fit(X_train, y_train)\n",
    "\n",
    "y_logits = lr.predict_proba(X_val)[:, 1]\n",
    "auc_score = roc_auc_score(y_val, y_logits)\n",
    "\n",
    "print(f'Auc: {auc_score:.3f}')"
   ]
  },
  {
   "cell_type": "markdown",
   "metadata": {},
   "source": [
    "### Question 3: Precision and Recall\n",
    "\n",
    "Now let's compute precision and recall for our model.\n",
    "\n",
    "Evaluate the model on all thresholds from 0.0 to 1.0 with step 0.01\n",
    "\n",
    "For each threshold, compute precision and recall\n",
    "\n",
    "Plot them\n",
    "\n",
    "At which threshold precision and recall curves intersect?\n"
   ]
  },
  {
   "cell_type": "code",
   "execution_count": 11,
   "metadata": {},
   "outputs": [
    {
     "name": "stdout",
     "output_type": "stream",
     "text": [
      "We have intersection around 0.263 threshold value\n"
     ]
    },
    {
     "name": "stderr",
     "output_type": "stream",
     "text": [
      "/var/folders/ct/6y14r9zn1kj3j9kqvchn0lsm0000gn/T/ipykernel_54300/3165380672.py:20: RuntimeWarning: invalid value encountered in scalar divide\n",
      "  precision = tp/(tp+fp)\n"
     ]
    }
   ],
   "source": [
    "thresholds = np.linspace(0, 1, 100)   \n",
    "\n",
    "precision_scores = {}\n",
    "recall_scores = {}\n",
    "\n",
    "for t in thresholds: \n",
    "\n",
    "    actual_positive = (y_val == 1)\n",
    "    actual_negative = (y_val == 0)\n",
    "\n",
    "    predict_positive = (y_logits >= t)\n",
    "    predict_negative = (y_logits < t)\n",
    "\n",
    "    tp = (actual_positive & predict_positive).sum()\n",
    "    tn = (predict_negative & actual_negative).sum()\n",
    "\n",
    "    fp = (predict_positive & actual_negative).sum()\n",
    "    fn = (predict_negative & actual_positive).sum()\n",
    "\n",
    "    precision = tp/(tp+fp)\n",
    "    recall = tp/(tp+fn)\n",
    "\n",
    "    precision_scores[t] = precision\n",
    "    recall_scores[t] = recall\n",
    "\n",
    "    # we need to check at what threshold precision and recall are the same\n",
    "    epsilon = 0.01\n",
    "    \n",
    "    if abs(precision - recall) < epsilon: \n",
    "        print(f'We have intersection around {t:.3f} threshold value')\n",
    "        "
   ]
  },
  {
   "cell_type": "code",
   "execution_count": 12,
   "metadata": {},
   "outputs": [
    {
     "data": {
      "image/png": "[encoded data removed]",
      "text/plain": [
       "<Figure size 500x500 with 1 Axes>"
      ]
     },
     "metadata": {},
     "output_type": "display_data"
    }
   ],
   "source": [
    "sns.set_theme()\n",
    "\n",
    "plt.figure(figsize=(5, 5), dpi=100)\n",
    "plt.plot(thresholds, list(precision_scores.values()), label='Precision')\n",
    "plt.plot(thresholds, list(recall_scores.values()), label='Recall')\n",
    "\n",
    "plt.title('Precision and Recall Scores for Models')\n",
    "plt.xlabel('Threshold')\n",
    "plt.ylabel('Score')\n",
    "plt.legend()\n",
    "\n",
    "plt.show()"
   ]
  },
  {
   "cell_type": "markdown",
   "metadata": {},
   "source": [
    "### Question 4: F1 score\n",
    "\n",
    "\n",
    "Let's compute F1 for all thresholds from 0.0 to 1.0 with increment 0.01\n",
    "\n",
    "At which threshold F1 is maximal?"
   ]
  },
  {
   "cell_type": "code",
   "execution_count": 13,
   "metadata": {},
   "outputs": [
    {
     "name": "stderr",
     "output_type": "stream",
     "text": [
      "/var/folders/ct/6y14r9zn1kj3j9kqvchn0lsm0000gn/T/ipykernel_54300/3004040440.py:19: RuntimeWarning: invalid value encountered in scalar divide\n",
      "  precision = tp/(tp+fp)\n"
     ]
    }
   ],
   "source": [
    "thresholds = np.linspace(0, 1, 100)   \n",
    "\n",
    "best_t, max_f1 = 0, float(\"-inf\")\n",
    "\n",
    "for t in thresholds: \n",
    "\n",
    "    actual_positive = (y_val == 1)\n",
    "    actual_negative = (y_val == 0)\n",
    "\n",
    "    predict_positive = (y_logits >= t)\n",
    "    predict_negative = (y_logits < t)\n",
    "\n",
    "    tp = (actual_positive & predict_positive).sum()\n",
    "    tn = (predict_negative & actual_negative).sum()\n",
    "\n",
    "    fp = (predict_positive & actual_negative).sum()\n",
    "    fn = (predict_negative & actual_positive).sum()\n",
    "\n",
    "    precision = tp/(tp+fp)\n",
    "    recall = tp/(tp+fn)\n",
    "\n",
    "    f1 = 2 * (precision * recall) / (precision + recall)\n",
    "\n",
    "    if f1 > max_f1: \n",
    "        best_t = t\n",
    "        max_f1 = f1"
   ]
  },
  {
   "cell_type": "code",
   "execution_count": 14,
   "metadata": {},
   "outputs": [
    {
     "name": "stdout",
     "output_type": "stream",
     "text": [
      "Max f1 score 0.574 on threshold 0.222\n"
     ]
    }
   ],
   "source": [
    "print(f'Max f1 score {max_f1:.3f} on threshold {best_t:.3f}')"
   ]
  },
  {
   "cell_type": "markdown",
   "metadata": {},
   "source": [
    "### Question 5: 5-Fold CV\n",
    "\n",
    "Use the KFold class from Scikit-Learn to evaluate our model on 5 different folds:\n",
    "\n",
    "KFold(n_splits=5, shuffle=True, random_state=1)\n",
    "\n",
    "Iterate over different folds of df_full_train\n",
    "\n",
    "Split the data into train and validation\n",
    "\n",
    "Train the model on train with these parameters: LogisticRegression(solver='liblinear', C=1.0, max_iter=1000)\n",
    "\n",
    "Use AUC to evaluate the model on validation\n",
    "\n",
    "How large is standard deviation of the scores across different folds?"
   ]
  },
  {
   "cell_type": "code",
   "execution_count": 15,
   "metadata": {},
   "outputs": [
    {
     "name": "stdout",
     "output_type": "stream",
     "text": [
      "shape: 36168\n"
     ]
    }
   ],
   "source": [
    "kf = KFold(n_splits=5, shuffle=True, random_state=1)\n",
    "\n",
    "df_full_train = df_train_val # in my definition it is df_train_val\n",
    "\n",
    "print(f\"shape: {df_full_train.shape[0]}\")"
   ]
  },
  {
   "cell_type": "code",
   "execution_count": 16,
   "metadata": {},
   "outputs": [],
   "source": [
    "auc_scores = []\n",
    "\n",
    "for fold, (train_index, val_index) in enumerate(kf.split(df_full_train)):\n",
    "    df_train = df_full_train.iloc[train_index]\n",
    "    df_val = df_full_train.iloc[val_index]\n",
    "\n",
    "    df_train = df_train.reset_index(drop=True)\n",
    "    df_val = df_val.reset_index(drop=True)\n",
    "\n",
    "    y_train = df_train[\"y\"].values\n",
    "    y_val = df_val[\"y\"].values\n",
    "\n",
    "    df_train.drop(columns=[\"y\"], inplace=True)\n",
    "    df_val.drop(columns=[\"y\"], inplace=True)   \n",
    "\n",
    "    train_dict = df_train.to_dict(orient=\"records\")\n",
    "    X_train = vectorizer.fit_transform(train_dict)\n",
    "\n",
    "    val_dict = df_val.to_dict(orient=\"records\")\n",
    "    X_val = vectorizer.fit_transform(val_dict)\n",
    "\n",
    "    lr = LogisticRegression(solver='liblinear', C=1.0, max_iter=1000)\n",
    "    lr.fit(X_train, y_train)\n",
    "\n",
    "    y_logits = lr.predict_proba(X_val)[:, 1]\n",
    "    auc_score = roc_auc_score(y_val, y_logits)\n",
    "\n",
    "    auc_scores += [auc_score]"
   ]
  },
  {
   "cell_type": "code",
   "execution_count": 17,
   "metadata": {},
   "outputs": [
    {
     "name": "stdout",
     "output_type": "stream",
     "text": [
      "Std of auc scores is: 0.006\n"
     ]
    }
   ],
   "source": [
    "print(f'Std of auc scores is: {np.std(auc_scores):.3f}')"
   ]
  },
  {
   "cell_type": "markdown",
   "metadata": {},
   "source": [
    "### Question 6: Hyperparameter Tuning\n",
    "\n",
    "Now let's use 5-Fold cross-validation to find the best parameter C\n",
    "\n",
    "Iterate over the following C values: [0.000001, 0.001, 1]\n",
    "\n",
    "Initialize KFold with the same parameters as previously\n",
    "\n",
    "Use these parameters for the model: LogisticRegression(solver='liblinear', C=C, max_iter=1000)\n",
    "\n",
    "Compute the mean score as well as the std (round the mean and std to 3 decimal digits)\n",
    "\n",
    "Which C leads to the best mean score?"
   ]
  },
  {
   "cell_type": "code",
   "execution_count": 18,
   "metadata": {},
   "outputs": [],
   "source": [
    "c_values = [0.000001, 0.001, 1]\n",
    "\n",
    "auc_scores = defaultdict(list)\n",
    "\n",
    "for fold, (train_index, val_index) in enumerate(kf.split(df_full_train)):\n",
    "    df_train = df_full_train.iloc[train_index]\n",
    "    df_val = df_full_train.iloc[val_index]\n",
    "\n",
    "    df_train = df_train.reset_index(drop=True)\n",
    "    df_val = df_val.reset_index(drop=True)\n",
    "\n",
    "    y_train = df_train[\"y\"].values\n",
    "    y_val = df_val[\"y\"].values\n",
    "\n",
    "    df_train.drop(columns=[\"y\"], inplace=True)\n",
    "    df_val.drop(columns=[\"y\"], inplace=True)   \n",
    "\n",
    "    train_dict = df_train.to_dict(orient=\"records\")\n",
    "    X_train = vectorizer.fit_transform(train_dict)\n",
    "\n",
    "    val_dict = df_val.to_dict(orient=\"records\")\n",
    "    X_val = vectorizer.fit_transform(val_dict)\n",
    "\n",
    "    for C in c_values:\n",
    "        lr = LogisticRegression(solver='liblinear', C=C, max_iter=1000)\n",
    "        lr.fit(X_train, y_train)\n",
    "\n",
    "        y_logits = lr.predict_proba(X_val)[:, 1]\n",
    "        auc_score = roc_auc_score(y_val, y_logits)\n",
    "\n",
    "        auc_scores[C] += [auc_score]"
   ]
  },
  {
   "cell_type": "code",
   "execution_count": 19,
   "metadata": {},
   "outputs": [
    {
     "name": "stdout",
     "output_type": "stream",
     "text": [
      "C value: 1e-06 with mean roc auc: 0.701\n",
      "C value: 0.001 with mean roc auc: 0.861\n",
      "C value: 1 with mean roc auc: 0.906\n"
     ]
    }
   ],
   "source": [
    "for C in auc_scores.keys(): \n",
    "    print(f\"C value: {C} with mean roc auc: {np.mean(auc_scores[C]):.3f}\")"
   ]
  },
  {
   "cell_type": "code",
   "execution_count": null,
   "metadata": {},
   "outputs": [],
   "source": []
  }
 ],
 "metadata": {
  "kernelspec": {
   "display_name": ".venv",
   "language": "python",
   "name": "python3"
  },
  "language_info": {
   "codemirror_mode": {
    "name": "ipython",
    "version": 3
   },
   "file_extension": ".py",
   "mimetype": "text/x-python",
   "name": "python",
   "nbconvert_exporter": "python",
   "pygments_lexer": "ipython3",
   "version": "3.12.4"
  }
 },
 "nbformat": 4,
 "nbformat_minor": 2
}
